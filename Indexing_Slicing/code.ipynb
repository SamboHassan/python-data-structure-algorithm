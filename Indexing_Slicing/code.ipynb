{
 "cells": [
  {
   "attachments": {},
   "cell_type": "raw",
   "metadata": {},
   "source": [
    "Quiz: List Indexing\n",
    "Use list indexing to determine how many days are in a particular month based on the integer variable month, and store that value in the integer variable num_days. For example, if month is 8, num_days should be set to 31, since the eighth month, August, has 31 days.\n",
    "\n",
    "Remember to account for zero-based indexing!"
   ]
  },
  {
   "cell_type": "code",
   "execution_count": 1,
   "metadata": {},
   "outputs": [
    {
     "name": "stdout",
     "output_type": "stream",
     "text": [
      "31\n"
     ]
    }
   ],
   "source": [
    "# use list indexing to determine the number of days in month\n",
    "month = 8 # 8 is August\n",
    "days_in_month = [31,28,31,30,31,30,31,31,30,31,30,31]\n"
   ]
  },
  {
   "cell_type": "code",
   "execution_count": 2,
   "metadata": {},
   "outputs": [
    {
     "name": "stdout",
     "output_type": "stream",
     "text": [
      "31\n"
     ]
    }
   ],
   "source": [
    "num_days = days_in_month[month - 1]\n",
    "print(num_days)"
   ]
  },
  {
   "cell_type": "code",
   "execution_count": 4,
   "metadata": {},
   "outputs": [],
   "source": [
    "# Quiz: Slicing Lists\n",
    "# Select the three most recent dates from this list using list slicing notation. \n",
    "\n",
    "eclipse_dates = ['June 21, 2001', 'December 4, 2002', 'November 23, 2003',\n",
    "                 'March 29, 2006', 'August 1, 2008', 'July 22, 2009',\n",
    "                 'July 11, 2010', 'November 13, 2012', 'March 20, 2015',\n",
    "                 'March 9, 2016']"
   ]
  },
  {
   "cell_type": "code",
   "execution_count": 7,
   "metadata": {},
   "outputs": [
    {
     "name": "stdout",
     "output_type": "stream",
     "text": [
      "['June 21, 2001', 'December 4, 2002', 'November 23, 2003', 'March 29, 2006', 'August 1, 2008', 'July 22, 2009', 'July 11, 2010']\n"
     ]
    }
   ],
   "source": [
    "print(eclipse_dates[:-3])"
   ]
  },
  {
   "cell_type": "code",
   "execution_count": 12,
   "metadata": {},
   "outputs": [
    {
     "name": "stdout",
     "output_type": "stream",
     "text": [
      "['November 13, 2012', 'March 20, 2015', 'March 9, 2016']\n"
     ]
    }
   ],
   "source": [
    "print(eclipse_dates[-3:])"
   ]
  },
  {
   "cell_type": "code",
   "execution_count": 17,
   "metadata": {},
   "outputs": [
    {
     "name": "stdout",
     "output_type": "stream",
     "text": [
      "[2, 3, 4]\n",
      "234\n",
      "pto\n",
      "ies\n"
     ]
    }
   ],
   "source": [
    "l = [1,2,3,4]\n",
    "print(l[1:])\n",
    "print('1234'[1:])\n",
    "print('python'[:5:2])\n",
    "print(\"univers\"[2::2])"
   ]
  },
  {
   "cell_type": "code",
   "execution_count": 22,
   "metadata": {},
   "outputs": [
    {
     "name": "stdout",
     "output_type": "stream",
     "text": [
      "xy\n",
      "usunsh\n",
      "True\n"
     ]
    }
   ],
   "source": [
    "print(\"galaxy\"[4:50])\n",
    "S = \"sunshine\"\n",
    "print(S[1:5:2] + S[1:5:1])\n",
    "\n",
    "# SKIPPING VALUES\n",
    "# When you skip any values, the interpreter uses the default values\n",
    "value = (S[::] == S[0:len(S):1])\n",
    "print(value)"
   ]
  },
  {
   "cell_type": "code",
   "execution_count": 31,
   "metadata": {},
   "outputs": [
    {
     "name": "stdout",
     "output_type": "stream",
     "text": [
      "galaxy\n",
      "galaxy\n",
      "rehtorb \n",
      " brother\n",
      "False\n"
     ]
    }
   ],
   "source": [
    "word = \"galaxy\"\n",
    "print(word[:-2] + word[4:])\n",
    "print(word[:])\n",
    "\n",
    "# USE CASE FOR NEGATIVE STEP SIZE\n",
    "S = \" O brother where art thou?\"\n",
    "print(S[9:1:-1])\n",
    "print(S[9:1:-1][::-1])\n",
    "print(len(\"one\") == len(\"  one\"))\n"
   ]
  },
  {
   "attachments": {},
   "cell_type": "raw",
   "metadata": {},
   "source": [
    "Default indices for -VE step size\n",
    "Start = len(S) - 1 (start is still included)\n",
    "\n",
    "end = -len(S) - 1 (end excluded)\n",
    "\n",
    "step = -1\n",
    "\n",
    "NOTE: \n",
    "-len(S)-1 == -(len(S)+1) and default is not always zero\n"
   ]
  },
  {
   "attachments": {},
   "cell_type": "markdown",
   "metadata": {},
   "source": [
    "                                     LIST SLICING"
   ]
  },
  {
   "cell_type": "code",
   "execution_count": null,
   "metadata": {},
   "outputs": [],
   "source": []
  }
 ],
 "metadata": {
  "kernelspec": {
   "display_name": "Python 3",
   "language": "python",
   "name": "python3"
  },
  "language_info": {
   "codemirror_mode": {
    "name": "ipython",
    "version": 3
   },
   "file_extension": ".py",
   "mimetype": "text/x-python",
   "name": "python",
   "nbconvert_exporter": "python",
   "pygments_lexer": "ipython3",
   "version": "3.10.10"
  },
  "orig_nbformat": 4
 },
 "nbformat": 4,
 "nbformat_minor": 2
}
