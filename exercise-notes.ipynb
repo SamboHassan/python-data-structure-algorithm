{
 "cells": [
  {
   "cell_type": "code",
   "execution_count": 15,
   "metadata": {},
   "outputs": [
    {
     "name": "stdout",
     "output_type": "stream",
     "text": [
      "3\n",
      "5\n",
      "7\n",
      "9\n",
      "11\n",
      "the len is 5\n"
     ]
    }
   ],
   "source": [
    "count = 0\n",
    "for x in range(3,12,2):\n",
    "    print(x)\n",
    "    count+=1\n",
    "print('the len is '+ str(count)) "
   ]
  },
  {
   "cell_type": "code",
   "execution_count": 16,
   "metadata": {},
   "outputs": [
    {
     "name": "stdout",
     "output_type": "stream",
     "text": [
      "5\n"
     ]
    }
   ],
   "source": [
    "lenght = max(0,(12-3+2-1)//2)\n",
    "print(lenght)"
   ]
  },
  {
   "cell_type": "code",
   "execution_count": 46,
   "metadata": {},
   "outputs": [
    {
     "data": {
      "text/plain": [
       "2.75"
      ]
     },
     "execution_count": 46,
     "metadata": {},
     "output_type": "execute_result"
    }
   ],
   "source": [
    "# Float division\n",
    "# x/y= float(x/y)\n",
    "11/4"
   ]
  },
  {
   "cell_type": "code",
   "execution_count": 47,
   "metadata": {},
   "outputs": [
    {
     "data": {
      "text/plain": [
       "2"
      ]
     },
     "execution_count": 47,
     "metadata": {},
     "output_type": "execute_result"
    }
   ],
   "source": [
    "# Integer Division OR Floor Division\n",
    "# x // y == math.floor(x/y)\n",
    "# The division of operands where the result is the quotient in \n",
    "# which the digits after the decimal point are removed. \n",
    "11//4"
   ]
  },
  {
   "cell_type": "code",
   "execution_count": 48,
   "metadata": {},
   "outputs": [
    {
     "data": {
      "text/plain": [
       "-3"
      ]
     },
     "execution_count": 48,
     "metadata": {},
     "output_type": "execute_result"
    }
   ],
   "source": [
    "# But if one of the \n",
    "# operands is negative, the result is floored , i.e., rounded away \n",
    "# from zero (towards negative infinity).\n",
    "-11//4"
   ]
  },
  {
   "cell_type": "code",
   "execution_count": 58,
   "metadata": {},
   "outputs": [
    {
     "data": {
      "text/plain": [
       "31"
      ]
     },
     "execution_count": 58,
     "metadata": {},
     "output_type": "execute_result"
    }
   ],
   "source": [
    "import math\n",
    "# x // y == math.floor(x/y)\n",
    "\n",
    "int_div = lambda n, d: (n + d // 2) // d\n",
    "int_div2 = lambda n, d: math.ceil((n+d/2)/d)\n",
    "# n = stop-start, d = step\n",
    "def range_len(start, stop, step):\n",
    "    return int_div2(stop - start, step)\n",
    "\n",
    "range_len(9, 100, 3)"
   ]
  },
  {
   "cell_type": "code",
   "execution_count": 62,
   "metadata": {},
   "outputs": [],
   "source": [
    "def calc_length(start, end, step):\n",
    "    return (end - start - 1) // step + 1\n",
    "# 3,12,2\n",
    "for i in range(3, 12):\n",
    "    calculated = calc_length(3, i, 2)\n",
    "    empirical = len(range(3, i, 2))\n",
    "\n",
    "    assert calculated == empirical, \"{} {}\".format(calculated, empirical)"
   ]
  },
  {
   "cell_type": "code",
   "execution_count": 51,
   "metadata": {},
   "outputs": [],
   "source": [
    "class Range:\n",
    "    def __init__(self, start, stop=None, step=1):\n",
    "        if step == 0:\n",
    "            raise ValueError('step cannot be zero')\n",
    "        if stop is None:\n",
    "            start, stop = 0, start"
   ]
  },
  {
   "cell_type": "code",
   "execution_count": 52,
   "metadata": {},
   "outputs": [
    {
     "name": "stdout",
     "output_type": "stream",
     "text": [
      "2\n"
     ]
    }
   ],
   "source": [
    "import math\n",
    "print(math.ceil(1.4))"
   ]
  }
 ],
 "metadata": {
  "kernelspec": {
   "display_name": "Python 3",
   "language": "python",
   "name": "python3"
  },
  "language_info": {
   "codemirror_mode": {
    "name": "ipython",
    "version": 3
   },
   "file_extension": ".py",
   "mimetype": "text/x-python",
   "name": "python",
   "nbconvert_exporter": "python",
   "pygments_lexer": "ipython3",
   "version": "3.7.8"
  },
  "orig_nbformat": 4,
  "vscode": {
   "interpreter": {
    "hash": "1ad2492b3bba6201ee654e54724e6cbde1ca6e67ebd7ad4598ca8ab5ab4e6753"
   }
  }
 },
 "nbformat": 4,
 "nbformat_minor": 2
}
