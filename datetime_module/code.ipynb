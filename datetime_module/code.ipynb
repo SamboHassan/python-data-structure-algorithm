{
 "cells": [
  {
   "cell_type": "markdown",
   "metadata": {},
   "source": [
    "### Python Datetime modules exercise\n"
   ]
  },
  {
   "cell_type": "code",
   "execution_count": 40,
   "metadata": {},
   "outputs": [
    {
     "name": "stdout",
     "output_type": "stream",
     "text": [
      "09:30:45.100000\n",
      "2023-08-21\n",
      "2023-08-21 09:30:45.100000\n"
     ]
    }
   ],
   "source": [
    "\"\"\" datetime.datetime is a combination of a date and a time. - everything\n",
    "    datetime.date is just a date - year, month, day\n",
    "    datetime.time is just a time - hour, minute, second, microsecond\n",
    "    \n",
    "\"\"\"\n",
    "import datetime\n",
    "import pytz\n",
    "\n",
    "# working with hours, minutes, seconds and microseconds\n",
    "t = datetime.time(9, 30, 45, 100000)\n",
    "d = datetime.date(2023, 8, 21)\n",
    "d_t = datetime.datetime(2023, 8, 21, 9, 30, 45, 100000)\n",
    "\n",
    "print(t)\n",
    "print(d)\n",
    "print(d_t)"
   ]
  },
  {
   "cell_type": "code",
   "execution_count": 47,
   "metadata": {},
   "outputs": [
    {
     "name": "stdout",
     "output_type": "stream",
     "text": [
      "2016-06-25 12:30:45\n",
      "<built-in method date of datetime.datetime object at 0x7f083c79bf90>\n",
      "12:30:45\n",
      "2016\n"
     ]
    }
   ],
   "source": [
    "# dt = datetime.datetime(2016, 7, 26, 12, 30, 45, 100000)\n",
    "# print(dt)\n",
    "# print(dt.date())\n",
    "# print(dt.time())\n",
    "# print(dt.year)\n",
    "\n",
    "dt = datetime.datetime(2016, 6, 25, 12, 30, 45)\n",
    "print(dt)\n",
    "print(dt.date())\n",
    "print(dt.time())\n",
    "print(dt.year)"
   ]
  },
  {
   "cell_type": "code",
   "execution_count": 46,
   "metadata": {},
   "outputs": [
    {
     "name": "stdout",
     "output_type": "stream",
     "text": [
      "2023\n",
      "9\n",
      "5\n",
      "1\n",
      "2\n",
      "2019-04-13\n"
     ]
    }
   ],
   "source": [
    "# today's date\n",
    "tday = datetime.date.today()\n",
    "print(tday.year)\n",
    "print(tday.month)\n",
    "print(tday.day)\n",
    "\n",
    "# Monday=0, Sunday=6\n",
    "print(tday.weekday())\n",
    "# Monday=1, Sunday=7\n",
    "print(tday.isoweekday())\n",
    "\n",
    "# d = datetime.date(2019, 4, 13)\n",
    "# print(d)"
   ]
  },
  {
   "cell_type": "code",
   "execution_count": 13,
   "metadata": {},
   "outputs": [
    {
     "name": "stdout",
     "output_type": "stream",
     "text": [
      "2023-09-05 10:11:07.508809\n",
      "2023-09-05 10:11:07.508896\n",
      "2023-09-05 09:11:07.508955\n"
     ]
    }
   ],
   "source": [
    "dt_today = datetime.datetime.today()\n",
    "dt_now = datetime.datetime.now()\n",
    "dt_ctunow = datetime.datetime.utcnow()\n",
    "\n",
    "print(dt_today)\n",
    "print(dt_now)\n",
    "print(dt_ctunow)"
   ]
  },
  {
   "cell_type": "code",
   "execution_count": 54,
   "metadata": {},
   "outputs": [
    {
     "name": "stdout",
     "output_type": "stream",
     "text": [
      "7 days from now will be: 2023-09-12\n",
      "One week ago was: 2023-08-29\n",
      "2025-09-04\n"
     ]
    }
   ],
   "source": [
    "# Python Time Deltas: Calculating differences in dates. Datetime manipulations\n",
    "\n",
    "tdelta = datetime.timedelta(days=7)\n",
    "# 7 days from now date will be\n",
    "print(\"7 days from now will be:\", tday + tdelta)\n",
    "# I week ago date was\n",
    "print(\"One week ago was:\", tday - tdelta)\n",
    "\n",
    "today_date = datetime.date.today()\n",
    "future_date_after_2yrs = today_date + datetime.timedelta(days=730)\n",
    "\n",
    "print(future_date_after_2yrs)\n",
    "# print(str(future_date_after_2yrs))\n",
    "\n",
    "# When you operate on two dates objects you get a timedelta\n",
    "# date2 = date1 + timedelta\n",
    "# timedelta = date1 + date2\n",
    "my_birthday = datetime.date(2023, 10, 6)\n",
    "\n",
    "# Days remaining till my birthday\n",
    "till_birthday = my_birthday - tdelta\n",
    "# print(till_birthday.year)\n",
    "# print(till_birthday.day)\n",
    "# print(till_birthday)"
   ]
  },
  {
   "cell_type": "code",
   "execution_count": 51,
   "metadata": {},
   "outputs": [
    {
     "name": "stdout",
     "output_type": "stream",
     "text": [
      "2016-07-26 12:30:45+00:00\n",
      "2023-09-05 21:05:47.610666+00:00\n",
      "2023-09-05 21:05:47.610730+00:00\n"
     ]
    }
   ],
   "source": [
    "# converting from a naive datetime to a timezone-aware datetime\n",
    "# creating a timezones aware datetime\n",
    "dt = datetime.datetime(2016, 7, 26, 12, 30, 45, tzinfo=pytz.UTC)\n",
    "print(dt)\n",
    "\n",
    "dt_now = datetime.datetime.now(tz=pytz.UTC)\n",
    "dt_ctunow = datetime.datetime.utcnow().replace(tzinfo=pytz.UTC)  # not recommended\n",
    "\n",
    "print(dt_now)\n",
    "print(dt_ctunow)"
   ]
  },
  {
   "cell_type": "code",
   "execution_count": 58,
   "metadata": {},
   "outputs": [
    {
     "name": "stdout",
     "output_type": "stream",
     "text": [
      "2023-09-06 07:26:41.758087+01:00\n",
      "2023-09-06 00:26:41.758087-06:00\n"
     ]
    }
   ],
   "source": [
    "# dt_utcnow = datetime.datetime.now(tz=pytz.UTC)\n",
    "dt_utcnow = datetime.datetime.now(pytz.timezone(\"Africa/Lagos\"))  # Africa/Lagos\n",
    "print(dt_utcnow)\n",
    "\n",
    "\n",
    "# convert to a different timezone\n",
    "dt_mtn = dt_utcnow.astimezone(pytz.timezone(\"US/Mountain\"))\n",
    "print(dt_mtn)"
   ]
  },
  {
   "cell_type": "code",
   "execution_count": 25,
   "metadata": {},
   "outputs": [],
   "source": [
    "# list of pytz timezones\n",
    "for tz in pytz.all_timezones:\n",
    "    pass\n",
    "    # print(tz)"
   ]
  },
  {
   "cell_type": "code",
   "execution_count": 29,
   "metadata": {},
   "outputs": [
    {
     "name": "stdout",
     "output_type": "stream",
     "text": [
      "2023-09-05 10:22:07.924367+00:00\n",
      "2023-09-05 11:42:00.687165\n"
     ]
    }
   ],
   "source": [
    "# Timezone aware datetime - timezone is specified\n",
    "dt_withtz = datetime.datetime.now(tz=pytz.UTC)\n",
    "print(dt_utcnow)\n",
    "\n",
    "# naive datetime because timezone is not specified\n",
    "dt_notz = datetime.datetime.now()\n",
    "print(dt_notz)"
   ]
  },
  {
   "cell_type": "code",
   "execution_count": 55,
   "metadata": {},
   "outputs": [
    {
     "name": "stdout",
     "output_type": "stream",
     "text": [
      "2023-09-06 07:13:16.106693\n",
      "2023-09-06 07:13:16.106693-06:00\n",
      "2023-09-06 09:13:16.106693-04:00\n"
     ]
    }
   ],
   "source": [
    "dt_notz = datetime.datetime.now()\n",
    "print(dt_notz)\n",
    "\n",
    "mtn_tz = pytz.timezone(\"US/Mountain\")\n",
    "dt_with_localtime = mtn_tz.localize(dt_notz)\n",
    "print(dt_with_localtime)\n",
    "\n",
    "dt_eastime = dt_with_localtime.astimezone(pytz.timezone(\"US/Eastern\"))\n",
    "print(dt_eastime)"
   ]
  },
  {
   "cell_type": "markdown",
   "metadata": {},
   "source": [
    "### Formatting a datetime as a string\n"
   ]
  },
  {
   "cell_type": "code",
   "execution_count": 36,
   "metadata": {},
   "outputs": [
    {
     "name": "stdout",
     "output_type": "stream",
     "text": [
      "September 05, 2023\n",
      "2016-07-26 00:00:00\n"
     ]
    }
   ],
   "source": [
    "# Formatting a datetime as a string\n",
    "dt_eastime = dt_with_localtime.astimezone(pytz.timezone(\"US/Eastern\"))\n",
    "print(dt_eastime.strftime(\"%B %d, %Y\"))\n",
    "\n",
    "# Convert a string to a datetime\n",
    "dt_str = \"July 26, 2016\"\n",
    "converted_dt = datetime.datetime.strptime(dt_str, \"%B %d, %Y\")\n",
    "print(converted_dt)\n",
    "\n",
    "# strftime - Convert Datetime to String\n",
    "# strptime - Convert String to Datetime"
   ]
  }
 ],
 "metadata": {
  "kernelspec": {
   "display_name": "Python 3",
   "language": "python",
   "name": "python3"
  },
  "language_info": {
   "codemirror_mode": {
    "name": "ipython",
    "version": 3
   },
   "file_extension": ".py",
   "mimetype": "text/x-python",
   "name": "python",
   "nbconvert_exporter": "python",
   "pygments_lexer": "ipython3",
   "version": "3.11.4"
  },
  "orig_nbformat": 4
 },
 "nbformat": 4,
 "nbformat_minor": 2
}
