{
 "cells": [
  {
   "cell_type": "markdown",
   "metadata": {},
   "source": [
    "### Python Datetime modules exercise"
   ]
  },
  {
   "cell_type": "code",
   "execution_count": 2,
   "metadata": {},
   "outputs": [
    {
     "name": "stdout",
     "output_type": "stream",
     "text": [
      "09:30:45.100000\n"
     ]
    }
   ],
   "source": [
    "\"\"\" datetime.datetime is a combination of a date and a time. - everything\n",
    "    datetime.date is just a date - year, month, day\n",
    "    datetime.time is just a time - hour, minute, second, microsecond\n",
    "    \n",
    "\"\"\"\n",
    "import datetime\n",
    "import pytz\n",
    "\n",
    "# working with hours, minutes, seconds and microseconds\n",
    "t = datetime.time(9, 30, 45, 100000)\n",
    "print(t)\n"
   ]
  },
  {
   "cell_type": "code",
   "execution_count": 8,
   "metadata": {},
   "outputs": [
    {
     "name": "stdout",
     "output_type": "stream",
     "text": [
      "2016-07-26 12:30:45.100000\n",
      "2016-07-26\n",
      "12:30:45.100000\n",
      "2016\n"
     ]
    }
   ],
   "source": [
    "dt = datetime.datetime(2016, 7, 26, 12, 30, 45, 100000)\n",
    "print(dt)\n",
    "print(dt.date())\n",
    "print(dt.time())\n",
    "print(dt.year)\n"
   ]
  },
  {
   "cell_type": "code",
   "execution_count": 11,
   "metadata": {},
   "outputs": [
    {
     "name": "stdout",
     "output_type": "stream",
     "text": [
      "2023\n",
      "9\n",
      "5\n",
      "1\n",
      "2\n",
      "2019-04-13\n"
     ]
    }
   ],
   "source": [
    "# today's date\n",
    "tday = datetime.date.today()\n",
    "print(tday.year)\n",
    "print(tday.month)\n",
    "print(tday.day)\n",
    "\n",
    "# Monday=0, Sunday=6\n",
    "# Monday=1, Sunday=7\n",
    "print(tday.weekday())\n",
    "print(tday.isoweekday())\n",
    "\n",
    "d = datetime.date(2019, 4, 13)\n",
    "print(d)"
   ]
  },
  {
   "cell_type": "code",
   "execution_count": 13,
   "metadata": {},
   "outputs": [
    {
     "name": "stdout",
     "output_type": "stream",
     "text": [
      "2023-09-05 10:11:07.508809\n",
      "2023-09-05 10:11:07.508896\n",
      "2023-09-05 09:11:07.508955\n"
     ]
    }
   ],
   "source": [
    "dt_today = datetime.datetime.today()\n",
    "dt_now = datetime.datetime.now()\n",
    "dt_ctunow = datetime.datetime.utcnow()\n",
    "\n",
    "print(dt_today)\n",
    "print(dt_now)\n",
    "print(dt_ctunow)"
   ]
  },
  {
   "cell_type": "code",
   "execution_count": 20,
   "metadata": {},
   "outputs": [
    {
     "name": "stdout",
     "output_type": "stream",
     "text": [
      "2023\n",
      "29\n",
      "2023-09-29\n"
     ]
    }
   ],
   "source": [
    "# Python Time Deltas\n",
    "# The difference between Two dates or Time used to do operations on date or time\n",
    "\n",
    "tdelta = datetime.timedelta(days=7)\n",
    "\n",
    "# 7 days from now date will be\n",
    "# print(tday + tdelta)\n",
    "\n",
    "# I week ago date was \n",
    "# print(tday - tdelta)\n",
    "\n",
    "# When you operate on two dates objects you get a timedelta\n",
    "# date2 = date1 + timedelta\n",
    "# timedelta = date1 + date2\n",
    "my_birthday = datetime.date(2023, 10, 6)\n",
    "\n",
    "# Days remaining till my birthday\n",
    "till_birthday = my_birthday - tdelta\n",
    "print(till_birthday.year)\n",
    "print(till_birthday.day)\n",
    "print(till_birthday)\n",
    "\n"
   ]
  },
  {
   "cell_type": "code",
   "execution_count": 7,
   "metadata": {},
   "outputs": [
    {
     "name": "stdout",
     "output_type": "stream",
     "text": [
      "2016-07-26 12:30:45+00:00\n",
      "2023-09-05 10:03:02.903901+00:00\n",
      "2023-09-05 10:03:02.903976+00:00\n"
     ]
    }
   ],
   "source": [
    "# converting from a naive datetime to a timezone aware datetime\n",
    "# creating a timezones aware datetime\n",
    "dt = datetime.datetime(2016, 7, 26, 12, 30, 45, tzinfo=pytz.UTC)\n",
    "print(dt)\n",
    "\n",
    "dt_now = datetime.datetime.now(tz=pytz.UTC)\n",
    "dt_ctunow = datetime.datetime.utcnow().replace(tzinfo=pytz.UTC) # not recommended\n",
    "\n",
    "print(dt_now)\n",
    "print(dt_ctunow)\n"
   ]
  },
  {
   "cell_type": "code",
   "execution_count": 9,
   "metadata": {},
   "outputs": [
    {
     "name": "stdout",
     "output_type": "stream",
     "text": [
      "2023-09-05 10:06:09.963016+00:00\n",
      "2023-09-05 04:06:09.963016-06:00\n"
     ]
    }
   ],
   "source": [
    "# convert to a different timezone\n",
    "dt_utcnow = datetime.datetime.now(tz=pytz.UTC)\n",
    "print(dt_utcnow)\n",
    "\n",
    "# convert to a different timezone\n",
    "dt_mtn = dt_utcnow.astimezone(pytz.timezone('US/Mountain'))\n",
    "print(dt_mtn)\n"
   ]
  },
  {
   "cell_type": "code",
   "execution_count": 25,
   "metadata": {},
   "outputs": [],
   "source": [
    "# list of pytz timezones\n",
    "for tz in pytz.all_timezones:\n",
    "    pass\n",
    "    # print(tz)\n",
    "    "
   ]
  },
  {
   "cell_type": "code",
   "execution_count": 28,
   "metadata": {},
   "outputs": [
    {
     "name": "stdout",
     "output_type": "stream",
     "text": [
      "2023-09-05 10:22:07.924367+00:00\n",
      "2023-09-05 11:23:34.221615\n"
     ]
    }
   ],
   "source": [
    "# Timezone aware datetime because timezone is specified\n",
    "dt_withtz = datetime.datetime.now(tz=pytz.UTC)\n",
    "print(dt_utcnow)\n",
    "\n",
    "dt_notz = datetime.datetime.now()\n",
    "print(dt_notz)"
   ]
  }
 ],
 "metadata": {
  "kernelspec": {
   "display_name": "Python 3",
   "language": "python",
   "name": "python3"
  },
  "language_info": {
   "codemirror_mode": {
    "name": "ipython",
    "version": 3
   },
   "file_extension": ".py",
   "mimetype": "text/x-python",
   "name": "python",
   "nbconvert_exporter": "python",
   "pygments_lexer": "ipython3",
   "version": "3.11.4"
  },
  "orig_nbformat": 4
 },
 "nbformat": 4,
 "nbformat_minor": 2
}
