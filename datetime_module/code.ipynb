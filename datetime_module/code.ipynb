{
 "cells": [
  {
   "cell_type": "markdown",
   "metadata": {},
   "source": [
    "Python Datetime modules exercise\n"
   ]
  },
  {
   "cell_type": "code",
   "execution_count": 26,
   "metadata": {},
   "outputs": [
    {
     "name": "stdout",
     "output_type": "stream",
     "text": [
      "09:30:45.100000\n",
      "2016-07-26 12:30:45.100000\n",
      "2016-07-26\n",
      "12:30:45.100000\n",
      "2016\n"
     ]
    }
   ],
   "source": [
    "\"\"\" datetime.datetime is a combination of a date and a time. - everything\n",
    "    datetime.date is just a date - year, month, day\n",
    "    datetime.time is just a time - hour, minute, second, microsecond\n",
    "    \n",
    "\"\"\"\n",
    "import datetime\n",
    "\n",
    "# working with hours, minutes, seconds and microseconds\n",
    "t = datetime.time(9, 30, 45, 100000)\n",
    "print(t)\n",
    "\n",
    "dt = datetime.datetime(2016, 7, 26, 12, 30, 45, 100000)\n",
    "print(dt)\n",
    "print(dt.date())\n",
    "print(dt.time())\n",
    "print(dt.year)\n"
   ]
  },
  {
   "cell_type": "code",
   "execution_count": 14,
   "metadata": {},
   "outputs": [
    {
     "name": "stdout",
     "output_type": "stream",
     "text": [
      "2023\n",
      "9\n",
      "4\n",
      "0\n",
      "1\n",
      "2019-04-13\n"
     ]
    }
   ],
   "source": [
    "import datetime\n",
    "\n",
    "# today's date\n",
    "tday = datetime.date.today()\n",
    "print(tday.year)\n",
    "print(tday.month)\n",
    "print(tday.day)\n",
    "\n",
    "# Monday=0, Sunday=6\n",
    "# Monday=1, Sunday=7\n",
    "print(tday.weekday())\n",
    "print(tday.isoweekday())\n",
    "\n",
    "d = datetime.date(2019, 4, 13)\n",
    "print(d)"
   ]
  },
  {
   "cell_type": "code",
   "execution_count": 20,
   "metadata": {},
   "outputs": [
    {
     "name": "stdout",
     "output_type": "stream",
     "text": [
      "32 days, 0:00:00\n",
      "32\n",
      "2764800.0\n"
     ]
    }
   ],
   "source": [
    "# Python Time Deltas\n",
    "# The difference between Two dates or Time used to do operations on date or time\n",
    "\n",
    "tdelta = datetime.timedelta(days=7)\n",
    "\n",
    "# 7 days from now date will be\n",
    "# print(tday + tdelta)\n",
    "\n",
    "# I week ago date was \n",
    "# print(tday - tdelta)\n",
    "\n",
    "# When you operate on two dates objects you get a timedelta\n",
    "# date2 = date1 + timedelta\n",
    "# timedelta = date1 + date2\n",
    "my_birthday = datetime.date(2023, 10, 6)\n",
    "\n",
    "# Days remaining till my birthday\n",
    "till_birthday = my_birthday - tday\n",
    "print(till_birthday)\n",
    "print(till_birthday.days)\n",
    "print(till_birthday.total_seconds())\n",
    "\n"
   ]
  }
 ],
 "metadata": {
  "kernelspec": {
   "display_name": "Python 3",
   "language": "python",
   "name": "python3"
  },
  "language_info": {
   "codemirror_mode": {
    "name": "ipython",
    "version": 3
   },
   "file_extension": ".py",
   "mimetype": "text/x-python",
   "name": "python",
   "nbconvert_exporter": "python",
   "pygments_lexer": "ipython3",
   "version": "3.10.12"
  },
  "orig_nbformat": 4
 },
 "nbformat": 4,
 "nbformat_minor": 2
}
