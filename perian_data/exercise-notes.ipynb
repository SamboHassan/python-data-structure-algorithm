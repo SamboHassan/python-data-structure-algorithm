{
 "cells": [
  {
   "cell_type": "code",
   "execution_count": 15,
   "metadata": {},
   "outputs": [
    {
     "name": "stdout",
     "output_type": "stream",
     "text": [
      "3\n",
      "5\n",
      "7\n",
      "9\n",
      "11\n",
      "the len is 5\n"
     ]
    }
   ],
   "source": [
    "count = 0\n",
    "for x in range(3,12,2):\n",
    "    print(x)\n",
    "    count+=1\n",
    "print('the len is '+ str(count)) "
   ]
  },
  {
   "cell_type": "code",
   "execution_count": 16,
   "metadata": {},
   "outputs": [
    {
     "name": "stdout",
     "output_type": "stream",
     "text": [
      "5\n"
     ]
    }
   ],
   "source": [
    "lenght = max(0,(12-3+2-1)//2)\n",
    "print(lenght)"
   ]
  },
  {
   "cell_type": "code",
   "execution_count": 46,
   "metadata": {},
   "outputs": [
    {
     "data": {
      "text/plain": [
       "2.75"
      ]
     },
     "execution_count": 46,
     "metadata": {},
     "output_type": "execute_result"
    }
   ],
   "source": [
    "# Float division\n",
    "# x/y= float(x/y)\n",
    "11/4"
   ]
  },
  {
   "cell_type": "code",
   "execution_count": 47,
   "metadata": {},
   "outputs": [
    {
     "data": {
      "text/plain": [
       "2"
      ]
     },
     "execution_count": 47,
     "metadata": {},
     "output_type": "execute_result"
    }
   ],
   "source": [
    "# Integer Division OR Floor Division\n",
    "# x // y == math.floor(x/y)\n",
    "# The division of operands where the result is the quotient in \n",
    "# which the digits after the decimal point are removed. \n",
    "11//4"
   ]
  },
  {
   "cell_type": "code",
   "execution_count": 48,
   "metadata": {},
   "outputs": [
    {
     "data": {
      "text/plain": [
       "-3"
      ]
     },
     "execution_count": 48,
     "metadata": {},
     "output_type": "execute_result"
    }
   ],
   "source": [
    "# But if one of the \n",
    "# operands is negative, the result is floored , i.e., rounded away \n",
    "# from zero (towards negative infinity).\n",
    "-11//4"
   ]
  },
  {
   "cell_type": "code",
   "execution_count": 58,
   "metadata": {},
   "outputs": [
    {
     "data": {
      "text/plain": [
       "31"
      ]
     },
     "execution_count": 58,
     "metadata": {},
     "output_type": "execute_result"
    }
   ],
   "source": [
    "import math\n",
    "# x // y == math.floor(x/y)\n",
    "\n",
    "int_div = lambda n, d: (n + d // 2) // d\n",
    "int_div2 = lambda n, d: math.ceil((n+d/2)/d)\n",
    "# n = stop-start, d = step\n",
    "def range_len(start, stop, step):\n",
    "    return int_div2(stop - start, step)\n",
    "\n",
    "range_len(9, 100, 3)"
   ]
  },
  {
   "cell_type": "code",
   "execution_count": 62,
   "metadata": {},
   "outputs": [],
   "source": [
    "def calc_length(start, end, step):\n",
    "    return (end - start - 1) // step + 1\n",
    "# 3,12,2\n",
    "for i in range(3, 12):\n",
    "    calculated = calc_length(3, i, 2)\n",
    "    empirical = len(range(3, i, 2))\n",
    "\n",
    "    assert calculated == empirical, \"{} {}\".format(calculated, empirical)"
   ]
  },
  {
   "cell_type": "code",
   "execution_count": 25,
   "metadata": {},
   "outputs": [
    {
     "name": "stdout",
     "output_type": "stream",
     "text": [
      "[3, 5, 7, 9, 11]\n"
     ]
    }
   ],
   "source": [
    "class Range:\n",
    "    def __init__(self, start, stop=None, step=1):\n",
    "        \n",
    "        if step == 0:\n",
    "            raise ValueError('step cannot be zero')\n",
    "        \n",
    "        if stop is None:\n",
    "            start, stop = 0, start\n",
    "            \n",
    "        # calculate the effective lengh once\n",
    "        self._lengh = max(0, (stop - start + step - 1) //step)\n",
    "        \n",
    "        # need knowledge of start and step (but not stop) to get __getitem__\n",
    "        self._start = start\n",
    "        self._step = step\n",
    "        \n",
    "    def __len(self):\n",
    "        \"\"\"Retun number of entries in the range\"\"\"\n",
    "        return self._lengh\n",
    "    \n",
    "    def __getitem__(self,k):\n",
    "        \"\"\"Retun entry at index k\"\"\"\n",
    "        if k < 0:\n",
    "            k += len(self)\n",
    "        if not k<=0<=self._lengh:\n",
    "            raise IndexError(\"index out of range\")\n",
    "        \n",
    "        \n",
    "        return self._start + k * self._step\n",
    "        \n",
    "        \n",
    "\n",
    "lst = list(range(3,12,2))\n",
    "print(lst)"
   ]
  },
  {
   "cell_type": "code",
   "execution_count": 15,
   "metadata": {},
   "outputs": [
    {
     "name": "stdout",
     "output_type": "stream",
     "text": [
      "[3]\n"
     ]
    }
   ],
   "source": [
    "\n",
    "print(list(Range(3,12,2)))"
   ]
  },
  {
   "cell_type": "code",
   "execution_count": 27,
   "metadata": {},
   "outputs": [
    {
     "name": "stdout",
     "output_type": "stream",
     "text": [
      "2\n"
     ]
    }
   ],
   "source": [
    "import math\n",
    "print(math.ceil(1.4))"
   ]
  },
  {
   "attachments": {},
   "cell_type": "markdown",
   "metadata": {},
   "source": [
    "## <h1><center>GENERATORs in Python</center></h1>\n",
    "\n",
    "Generators are built using the yield keyword "
   ]
  },
  {
   "cell_type": "code",
   "execution_count": 31,
   "metadata": {},
   "outputs": [
    {
     "data": {
      "text/plain": [
       "[0, 1, 8, 27, 64, 125, 216, 343, 512, 729]"
      ]
     },
     "execution_count": 31,
     "metadata": {},
     "output_type": "execute_result"
    }
   ],
   "source": [
    "def create_cubes(n):\n",
    "    result = []\n",
    "    for x in range(n):\n",
    "        result.append(x**3)\n",
    "    return result\n",
    "\n",
    "create_cubes(10)    "
   ]
  },
  {
   "cell_type": "code",
   "execution_count": 47,
   "metadata": {},
   "outputs": [
    {
     "data": {
      "text/plain": [
       "[0, 1, 16, 81, 256, 625, 1296]"
      ]
     },
     "execution_count": 47,
     "metadata": {},
     "output_type": "execute_result"
    }
   ],
   "source": [
    "def yield_cubes(n):\n",
    "    for x in range(n):\n",
    "        yield x**4\n",
    "        \n",
    "# for x in yield_cubes(7):\n",
    "#     print(x)\n",
    "\n",
    "list(yield_cubes(7)) # to cast it into a list\n",
    "\n",
    "# YIELDING IS MORE MEMORY EFFICIET"
   ]
  },
  {
   "cell_type": "code",
   "execution_count": 49,
   "metadata": {},
   "outputs": [
    {
     "name": "stdout",
     "output_type": "stream",
     "text": [
      "1\n",
      "1\n",
      "2\n",
      "3\n",
      "5\n",
      "8\n",
      "13\n",
      "21\n",
      "34\n",
      "55\n"
     ]
    }
   ],
   "source": [
    "def gen_fibon(n):\n",
    "    a = 1\n",
    "    b = 1\n",
    "    for i in range(n):\n",
    "        yield a\n",
    "        a,b = b, a+b\n",
    "\n",
    "for number in gen_fibon(10):\n",
    "    print(number)"
   ]
  },
  {
   "cell_type": "code",
   "execution_count": 55,
   "metadata": {},
   "outputs": [
    {
     "name": "stdout",
     "output_type": "stream",
     "text": [
      "0\n",
      "1\n",
      "2\n"
     ]
    }
   ],
   "source": [
    "# def simple_gen():\n",
    "#     for x in range(3):\n",
    "#         print(x)\n",
    "        \n",
    "# for num in simple_gen():\n",
    "#     print(num)    \n",
    "# The above code will through: TypeError: 'NoneType' object is not iterable\n",
    "# because of the absence of yield keyword\n",
    "\n",
    "def simple_gen():\n",
    "    for x in range(3):\n",
    "        yield x   \n",
    "\n",
    "for num in simple_gen():\n",
    "    print(num)     "
   ]
  },
  {
   "cell_type": "code",
   "execution_count": 61,
   "metadata": {},
   "outputs": [
    {
     "name": "stdout",
     "output_type": "stream",
     "text": [
      "0\n",
      "1\n",
      "2\n"
     ]
    }
   ],
   "source": [
    "g = simple_gen()\n",
    "print(next(g))\n",
    "print(next(g))\n",
    "print(next(g))\n",
    "#print(next(g)) This will raise a StopIteration error "
   ]
  },
  {
   "cell_type": "code",
   "execution_count": 69,
   "metadata": {},
   "outputs": [
    {
     "name": "stdout",
     "output_type": "stream",
     "text": [
      "h\n",
      "e\n",
      "l\n"
     ]
    }
   ],
   "source": [
    "s = \"hello\"\n",
    "\n",
    "# for c in s:\n",
    "#     print(c)\n",
    "    \n",
    "# print(next(c)) this raises TypeError, even though str is iterable, \n",
    "# you can iterate through it using for loop but you cannot use the next() on it\n",
    "s_iter_version = iter(s)\n",
    "\n",
    "print(next(s_iter_version))\n",
    "print(next(s_iter_version))\n",
    "print(next(s_iter_version))\n"
   ]
  },
  {
   "attachments": {},
   "cell_type": "markdown",
   "metadata": {},
   "source": [
    "### Problem 2\n",
    "\n",
    "Create a generator that yields \"n\" random numbers between low and high number (that are input\n",
    ")\n",
    "Hint: use the random library\n"
   ]
  },
  {
   "cell_type": "code",
   "execution_count": 105,
   "metadata": {},
   "outputs": [
    {
     "name": "stdout",
     "output_type": "stream",
     "text": [
      "7\n",
      "10\n",
      "6\n",
      "7\n",
      "5\n",
      "4\n",
      "1\n",
      "7\n",
      "6\n",
      "1\n",
      "1\n",
      "7\n"
     ]
    }
   ],
   "source": [
    "# SOLUTION\n",
    "import random\n",
    "\n",
    "\n",
    "# print(random.randint(1,10))\n",
    "\n",
    "def rand_num(low, high, n):\n",
    "    for i in range(n):\n",
    "        yield random.randint(low, high)\n",
    "\n",
    "for x in rand_num(1,10,12):\n",
    "    print(x)"
   ]
  },
  {
   "cell_type": "code",
   "execution_count": 108,
   "metadata": {},
   "outputs": [
    {
     "name": "stdout",
     "output_type": "stream",
     "text": [
      "4\n",
      "5\n",
      "6\n"
     ]
    }
   ],
   "source": [
    "# GENERATOR COMPREHENSION or precisely Generator expression\n",
    "\n",
    "mylist = [1,2,3,4,5,6]\n",
    "\n",
    "gencomp = (item for item in mylist if item > 3)\n",
    "\n",
    "# len(gencomp) will raise TypeError bcos technically, it has no length\n",
    "# use next(gencomp) to iterate through it elements\n",
    "\n",
    "for item in gencomp:\n",
    "    print(item)\n",
    "\n",
    "\n",
    "    \n",
    "# LIST COMPREHENSION\n",
    "# my_list = [1, 3, 5, 9, 2, 6]\n",
    "# filtered_list = [item for item in my_list if item > 3]"
   ]
  },
  {
   "attachments": {},
   "cell_type": "markdown",
   "metadata": {},
   "source": [
    "Because a generator expression only has to yield one item at a time, it can lead to big savings in memory usage. Generator expressions make the most sense in scenarios where you need to take one item at a time, do a lot of calculations based on that item, and then move on to the next item. If you need more than one value, you can also use a generator expression and grab a few at a time. If you need all the values before your program proceeds, use a list comprehension instead."
   ]
  },
  {
   "cell_type": "code",
   "execution_count": null,
   "metadata": {},
   "outputs": [],
   "source": []
  }
 ],
 "metadata": {
  "kernelspec": {
   "display_name": "Python 3",
   "language": "python",
   "name": "python3"
  },
  "language_info": {
   "codemirror_mode": {
    "name": "ipython",
    "version": 3
   },
   "file_extension": ".py",
   "mimetype": "text/x-python",
   "name": "python",
   "nbconvert_exporter": "python",
   "pygments_lexer": "ipython3",
   "version": "3.7.8"
  },
  "orig_nbformat": 4,
  "vscode": {
   "interpreter": {
    "hash": "1ad2492b3bba6201ee654e54724e6cbde1ca6e67ebd7ad4598ca8ab5ab4e6753"
   }
  }
 },
 "nbformat": 4,
 "nbformat_minor": 2
}
