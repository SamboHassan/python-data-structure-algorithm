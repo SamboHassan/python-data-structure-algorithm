{
 "cells": [
  {
   "cell_type": "code",
   "execution_count": 3,
   "metadata": {},
   "outputs": [],
   "source": [
    "# Fibonacci numbers module\n",
    "\n",
    "\n",
    "def fib(n):  # write Fibonacci series up to n\n",
    "    a, b = 0, 1\n",
    "    while a < n:\n",
    "        print(a, end=\" \")\n",
    "        a, b = b, a + b\n",
    "    print()\n",
    "    print(\"this is from fib\")\n",
    "\n",
    "\n",
    "def fib2(n):  # return Fibonacci series up to n\n",
    "    result = []\n",
    "    a, b = 0, 1\n",
    "    while a < n:\n",
    "        result.append(a)\n",
    "        a, b = b, a + b\n",
    "    return result\n",
    "\n",
    "\n",
    "# 6.1.1. Executing modules as scripts¶\n",
    "# When you run a Python module with\n",
    "\n",
    "# python fibo.py <arguments>\n",
    "# the code in the module will be executed, just as if you imported it, but with the __name__ set to \"__main__\". That means that by adding this code at the end of your module:\n",
    "\n",
    "# if __name__ == \"__main__\":\n",
    "#     import sys\n",
    "#     fib(int(sys.argv[1]))\n",
    "# you can make the file usable as a script as well as an importable module, because the code that parses the command line only runs if the module is executed as the “main” file:\n",
    "\n",
    "# python fibo.py 50\n",
    "# 0 1 1 2 3 5 8 13 21 34\n"
   ]
  }
 ],
 "metadata": {
  "kernelspec": {
   "display_name": "Python 3",
   "language": "python",
   "name": "python3"
  },
  "language_info": {
   "codemirror_mode": {
    "name": "ipython",
    "version": 3
   },
   "file_extension": ".py",
   "mimetype": "text/x-python",
   "name": "python",
   "nbconvert_exporter": "python",
   "pygments_lexer": "ipython3",
   "version": "3.7.8"
  },
  "orig_nbformat": 4,
  "vscode": {
   "interpreter": {
    "hash": "1ad2492b3bba6201ee654e54724e6cbde1ca6e67ebd7ad4598ca8ab5ab4e6753"
   }
  }
 },
 "nbformat": 4,
 "nbformat_minor": 2
}
